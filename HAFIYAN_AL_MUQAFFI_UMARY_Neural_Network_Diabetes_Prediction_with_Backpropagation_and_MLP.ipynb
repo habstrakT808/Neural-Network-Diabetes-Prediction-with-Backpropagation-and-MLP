{
  "nbformat": 4,
  "nbformat_minor": 0,
  "metadata": {
    "colab": {
      "provenance": [],
      "include_colab_link": true
    },
    "kernelspec": {
      "name": "python3",
      "display_name": "Python 3"
    },
    "language_info": {
      "name": "python"
    }
  },
  "cells": [
    {
      "cell_type": "markdown",
      "metadata": {
        "id": "view-in-github",
        "colab_type": "text"
      },
      "source": [
        "<a href=\"https://colab.research.google.com/github/habstrakT808/Neural-Network-Diabetes-Prediction-with-Backpropagation-and-MLP/blob/main/HAFIYAN_AL_MUQAFFI_UMARY_Neural_Network_Diabetes_Prediction_with_Backpropagation_and_MLP.ipynb\" target=\"_parent\"><img src=\"https://colab.research.google.com/assets/colab-badge.svg\" alt=\"Open In Colab\"/></a>"
      ]
    },
    {
      "cell_type": "markdown",
      "source": [
        "#Pengolahan Sebagian Dataset Tanpa Library\n",
        "\n",
        "#Perhitungan Kode dengan Metode Manual"
      ],
      "metadata": {
        "id": "7FUBz39H5ELQ"
      }
    },
    {
      "cell_type": "code",
      "source": [
        "# Memilih 5 fitur dan target 'Diabetes_binary'\n",
        "selected_features = ['Diabetes_binary', 'HighBP', 'HighChol', 'CholCheck', 'Smoker', 'Stroke']\n",
        "if all(feature in data.columns for feature in selected_features):\n",
        "    data_selected = data[selected_features]\n",
        "\n",
        "    # Menampilkan 3 baris acak dengan target 'Diabetes_binary' == 0.0\n",
        "    data_target_0 = data_selected[data_selected['Diabetes_binary'] == 0.0].sample(3)\n",
        "    print(\"\\n3 Baris acak dengan target Diabetes_binary = 0.0:\")\n",
        "    print(data_target_0)\n",
        "\n",
        "    # Menampilkan 3 baris acak dengan target 'Diabetes_binary' == 1.0\n",
        "    data_target_1 = data_selected[data_selected['Diabetes_binary'] == 1.0].sample(3)\n",
        "    print(\"\\n3 Baris acak dengan target Diabetes_binary = 1.0:\")\n",
        "    print(data_target_1)\n",
        "else:\n",
        "    print(\"\\nBeberapa fitur yang dipilih tidak ada dalam dataset.\")"
      ],
      "metadata": {
        "colab": {
          "base_uri": "https://localhost:8080/"
        },
        "id": "WxY6w0LETgUS",
        "outputId": "5f57e7ca-1700-41ab-bce6-ab279a1f7ad3"
      },
      "execution_count": null,
      "outputs": [
        {
          "output_type": "stream",
          "name": "stdout",
          "text": [
            "\n",
            "3 Baris acak dengan target Diabetes_binary = 0.0:\n",
            "       Diabetes_binary  HighBP  HighChol  CholCheck  Smoker  Stroke\n",
            "22288              0.0     0.0       0.0        1.0     0.0     0.0\n",
            "8143               0.0     0.0       0.0        1.0     1.0     0.0\n",
            "28209              0.0     0.0       1.0        1.0     1.0     0.0\n",
            "\n",
            "3 Baris acak dengan target Diabetes_binary = 1.0:\n",
            "       Diabetes_binary  HighBP  HighChol  CholCheck  Smoker  Stroke\n",
            "44249              1.0     1.0       1.0        1.0     1.0     0.0\n",
            "42428              1.0     0.0       0.0        1.0     0.0     0.0\n",
            "43697              1.0     1.0       1.0        1.0     0.0     0.0\n"
          ]
        }
      ]
    },
    {
      "cell_type": "markdown",
      "source": [
        "#Feed Forward, Backpropagation, Update Weight Tanpa Library"
      ],
      "metadata": {
        "id": "5jU1uv855V35"
      }
    },
    {
      "cell_type": "code",
      "source": [
        "import numpy as np\n",
        "import pandas as pd\n",
        "\n",
        "# Definisikan dataset\n",
        "data = {\n",
        "    'X1': np.array([0, 1, 0, 1, 0, 1]),\n",
        "    'X2': np.array([0, 0, 0, 1, 0, 1]),\n",
        "    'X3': np.array([1, 1, 1, 1, 1, 1]),\n",
        "    'X4': np.array([0, 1, 0, 0, 1, 1]),\n",
        "    'X5': np.array([0, 1, 0, 0, 0, 1]),\n",
        "    'Target': np.array([0, 0, 0, 1, 1, 1])\n",
        "}\n",
        "\n",
        "# Definisikan parameter jaringan (bobot dan bias)\n",
        "weights = {\n",
        "    'W_biasZ1': np.array([-0.2, 0.1, 0.2, -0.25, 0.3, -0.1]),\n",
        "    'W_biasZ2': np.array([0.4, -0.3, -0.4, 0.35, -0.1, 0.2]),\n",
        "    'W_X1Z1': np.array([0.1, -0.2, 0.4, 0.5, -0.5, -0.3]),\n",
        "    'W_X1Z2': np.array([-0.3, 0.4, 0.1, -0.6, 0.2, 0.35]),\n",
        "    'W_X2Z1': np.array([0.5, -0.1, -0.3, -0.2, -0.4, 0.4]),\n",
        "    'W_X2Z2': np.array([-0.6, 0.6, 0.25, 0.3, 0.7, -0.25]),\n",
        "    'W_X3Z1': np.array([-0.4, 0.3, -0.6, 0.4, 0.25, 0.5]),\n",
        "    'W_X3Z2': np.array([0.3, -0.5, 0.2, -0.3, 0.4, 0.1]),\n",
        "    'W_X4Z1': np.array([0.7, 0, -0.5, 0.7, -0.6, 0.9]),\n",
        "    'W_X4Z2': np.array([-0.9, -0.6, 0.6, 0.9, 0.8, 0.1]),\n",
        "    'W_X5Z1': np.array([-0.1, 0.6, -0.1, -0.4, 0.5, 0.2]),\n",
        "    'W_X5Z2': np.array([0.9, -0.5, 0.4, -0.5, 0.8, 0.1]),\n",
        "    'W_biasY1': np.array([0.25, -0.2, 0.4, -0.15, 0.15, -0.3]),\n",
        "    'W_biasY2': np.array([-0.15, 0.3, -0.3, 0.25, -0.25, 0.5]),\n",
        "    'W_Z1Y1': np.array([0.35, 0.15, 0.1, 0.6, -0.35, 0.4]),\n",
        "    'W_Z1Y2': np.array([0.45, -0.4, 0.5, -0.2, 0.4, 0.25]),\n",
        "    'W_Z2Y1': np.array([-0.25, 0.5, -0.2, 0.4, 0.3, -0.45]),\n",
        "    'W_Z2Y2': np.array([0.6, -0.35, 0.45, 0.1, -0.5, 0.35])\n",
        "}\n",
        "\n",
        "\n",
        "# Fungsi aktivasi (sigmoid)\n",
        "def sigmoid(x):\n",
        "    return 1 / (1 + np.exp(-x))\n",
        "\n",
        "# Fungsi diferensial sigmoid\n",
        "def diferensial(x):\n",
        "    return x * (1 - x)\n",
        "\n",
        "# Definisikan jumlah epoch dan learning rate\n",
        "epochs = 2\n",
        "learning_rate = 0.1\n",
        "\n",
        "# Proses Training\n",
        "for epoch in range(epochs):\n",
        "    # Feedforward\n",
        "    # Layer Z1 dan Z2 (Hidden layer)\n",
        "    Z1_input = data['X1'] * weights['W_X1Z1'] + data['X2'] * weights['W_X2Z1'] + data['X3'] * weights['W_X3Z1'] + data['X4'] * weights['W_X4Z1'] + data['X5'] * weights['W_X5Z1'] + weights['W_biasZ1']\n",
        "    Z2_input = data['X1'] * weights['W_X1Z2'] + data['X2'] * weights['W_X2Z2'] + data['X3'] * weights['W_X3Z2'] + data['X4'] * weights['W_X4Z2'] + data['X5'] * weights['W_X5Z2'] + weights['W_biasZ2']\n",
        "\n",
        "    Z1 = sigmoid(Z1_input)  # Output dari neuron Z1\n",
        "    Z2 = sigmoid(Z2_input)  # Output dari neuron Z2\n",
        "\n",
        "    # Layer Y1 dan Y2 (Output layer)\n",
        "    Y1_input = Z1 * weights['W_Z1Y1'] + Z2 * weights['W_Z2Y1'] + weights['W_biasY1']\n",
        "    Y2_input = Z1 * weights['W_Z1Y2'] + Z2 * weights['W_Z2Y2'] + weights['W_biasY2']\n",
        "\n",
        "    Y1 = sigmoid(Y1_input)  # Output dari neuron Y1\n",
        "    Y2 = sigmoid(Y2_input)  # Output dari neuron Y2\n",
        "\n",
        "    # Output akhir\n",
        "    output = np.array([Y1, Y2])\n",
        "\n",
        "    # Backpropagation\n",
        "    # Target output yang diinginkan\n",
        "    target = data['Target']\n",
        "\n",
        "    # Hitung error output\n",
        "    error_Y1 = target - Y1\n",
        "    error_Y2 = target - Y2\n",
        "\n",
        "    # f'(Yin1) dan f'(Yin2)\n",
        "    f_prime_Yin1 = diferensial(Y1)\n",
        "    f_prime_Yin2 = diferensial(Y2)\n",
        "\n",
        "    # Gradient untuk Y1 dan Y2\n",
        "    gradient_Y1 = error_Y1 * f_prime_Yin1\n",
        "    gradient_Y2 = error_Y2 * f_prime_Yin2\n",
        "\n",
        "    # Perubahan bobot pada layer output\n",
        "    dW_Z1Y1 = learning_rate * gradient_Y1 * Z1\n",
        "    dW_Z1Y2 = learning_rate * gradient_Y2 * Z1\n",
        "    dW_Z2Y1 = learning_rate * gradient_Y1 * Z2\n",
        "    dW_Z2Y2 = learning_rate * gradient_Y2 * Z2\n",
        "\n",
        "    # Gradient untuk Yin1 dan Yin2\n",
        "    gradient_Yin1 = gradient_Y1 * weights['W_Z1Y1'] + gradient_Y2 * weights['W_Z1Y2']\n",
        "    gradient_Yin2 = gradient_Y1 * weights['W_Z2Y1'] + gradient_Y2 * weights['W_Z2Y2']\n",
        "\n",
        "    # f'(Zin1) dan f'(Zin2)\n",
        "    f_prime_Zin1 = diferensial(Z1)\n",
        "    f_prime_Zin2 = diferensial(Z2)\n",
        "\n",
        "    # Gradient untuk Z1 dan Z2\n",
        "    gradient_Z1 = gradient_Yin1 * f_prime_Zin1\n",
        "    gradient_Z2 = gradient_Yin2 * f_prime_Zin2\n",
        "\n",
        "    # Perubahan bobot pada layer Z (Hidden layer)\n",
        "    dW_biasZ1 = learning_rate * gradient_Z1\n",
        "    dW_biasZ2 = learning_rate * gradient_Z2  # Pembaruan bobot bias Z2 yang benar\n",
        "\n",
        "    dW_X1Z1 = learning_rate * gradient_Z1 * data['X1']\n",
        "    dW_X1Z2 = learning_rate * gradient_Z2 * data['X1']\n",
        "    dW_X2Z1 = learning_rate * gradient_Z1 * data['X2']\n",
        "    dW_X2Z2 = learning_rate * gradient_Z2 * data['X2']\n",
        "    dW_X3Z1 = learning_rate * gradient_Z1 * data['X3']\n",
        "    dW_X3Z2 = learning_rate * gradient_Z2 * data['X3']\n",
        "    dW_X4Z1 = learning_rate * gradient_Z1 * data['X4']\n",
        "    dW_X4Z2 = learning_rate * gradient_Z2 * data['X4']\n",
        "    dW_X5Z1 = learning_rate * gradient_Z1 * data['X5']\n",
        "    dW_X5Z2 = learning_rate * gradient_Z2 * data['X5']\n",
        "\n",
        "    # Perubahan bobot pada layer output\n",
        "    dW_biasY1 = learning_rate * gradient_Y1\n",
        "    dW_biasY2 = learning_rate * gradient_Y2\n",
        "\n",
        "    print(f\"Epoch {epoch + 1}\")\n",
        "    # .\n",
        "    output_dict = {\n",
        "        'f\\'(Yin1)': f_prime_Yin1,\n",
        "        'f\\'(Yin2)': f_prime_Yin2,\n",
        "        'f\\'(Zin1)': f_prime_Zin1,\n",
        "        'f\\'(Zin2)': f_prime_Zin2,\n",
        "        'Gradient y1': gradient_Y1,\n",
        "        'Gradient y2': gradient_Y2,\n",
        "        'ΔW(Z1Y1)': dW_Z1Y1,\n",
        "        'ΔW(Z1Y2)': dW_Z1Y2,\n",
        "        'ΔW(Z2Y1)': dW_Z2Y1,\n",
        "        'ΔW(Z2Y2)': dW_Z2Y2,\n",
        "        'Gradient Yin1': gradient_Yin1,\n",
        "        'Gradient Z1': gradient_Z1,\n",
        "        'Gradient Yin2': gradient_Yin2,\n",
        "        'Gradient Z2': gradient_Z2,\n",
        "        'ΔW(X1Z1)': dW_X1Z1,\n",
        "        'ΔW(X1Z2)': dW_X1Z2,\n",
        "        'ΔW(X2Z1)': dW_X2Z1,\n",
        "        'ΔW(X2Z2)': dW_X2Z2,\n",
        "        'ΔW(X3Z1)': dW_X3Z1,\n",
        "        'ΔW(X3Z2)': dW_X3Z2,\n",
        "        'ΔW(X4Z1)': dW_X4Z1,\n",
        "        'ΔW(X4Z2)': dW_X4Z2,\n",
        "        'ΔW(X5Z1)': dW_X5Z1,\n",
        "        'ΔW(X5Z2)': dW_X5Z2\n",
        "    }\n",
        "\n",
        "    # Format output dictionary as a DataFrame for better readability\n",
        "    output_df = pd.DataFrame(output_dict)\n",
        "    print(output_df)\n",
        "    print(\"-\" * 60)\n",
        "    # Update bobot dengan perubahan yang dihitung\n",
        "    weights['W_biasZ1'] += dW_biasZ1\n",
        "    weights['W_biasZ2'] += dW_biasZ2\n",
        "    weights['W_X1Z1'] += dW_X1Z1\n",
        "    weights['W_X1Z2'] += dW_X1Z2\n",
        "    weights['W_X2Z1'] += dW_X2Z1\n",
        "    weights['W_X2Z2'] += dW_X2Z2\n",
        "    weights['W_X3Z1'] += dW_X3Z1\n",
        "    weights['W_X3Z2'] += dW_X3Z2\n",
        "    weights['W_X4Z1'] += dW_X4Z1\n",
        "    weights['W_X4Z2'] += dW_X4Z2\n",
        "    weights['W_X5Z1'] += dW_X5Z1\n",
        "    weights['W_X5Z2'] += dW_X5Z2\n",
        "    weights['W_biasY1'] += dW_biasY1\n",
        "    weights['W_biasY2'] += dW_biasY2\n",
        "    weights['W_Z1Y1'] += dW_Z1Y1\n",
        "    weights['W_Z1Y2'] += dW_Z1Y2\n",
        "    weights['W_Z2Y1'] += dW_Z2Y1\n",
        "    weights['W_Z2Y2'] += dW_Z2Y2\n",
        "\n",
        "    # Menyimpan bobot yang terupdate ke dalam dictionary untuk setiap epoch\n",
        "    updated_weights_dict = {\n",
        "        'W_biasZ1': weights['W_biasZ1'],\n",
        "        'W_biasZ2': weights['W_biasZ2'],\n",
        "        'W_X1Z1': weights['W_X1Z1'],\n",
        "        'W_X1Z2': weights['W_X1Z2'],\n",
        "        'W_X2Z1': weights['W_X2Z1'],\n",
        "        'W_X2Z2': weights['W_X2Z2'],\n",
        "        'W_X3Z1': weights['W_X3Z1'],\n",
        "        'W_X3Z2': weights['W_X3Z2'],\n",
        "        'W_X4Z1': weights['W_X4Z1'],\n",
        "        'W_X4Z2': weights['W_X4Z2'],\n",
        "        'W_X5Z1': weights['W_X5Z1'],\n",
        "        'W_X5Z2': weights['W_X5Z2'],\n",
        "        'W_biasY1': weights['W_biasY1'],\n",
        "        'W_biasY2': weights['W_biasY2'],\n",
        "        'W_Z1Y1': weights['W_Z1Y1'],\n",
        "        'W_Z1Y2': weights['W_Z1Y2'],\n",
        "        'W_Z2Y1': weights['W_Z2Y1'],\n",
        "        'W_Z2Y2': weights['W_Z2Y2'],\n",
        "    }\n",
        "\n",
        "    # Convert the dictionary to DataFrame for better readability\n",
        "    updated_weights_df = pd.DataFrame(updated_weights_dict)\n",
        "\n",
        "    print(f\"Updated Weights after Epoch {epoch + 1}:\")\n",
        "    print(updated_weights_df)\n",
        "    print(\"-\" * 60)\n"
      ],
      "metadata": {
        "id": "t-JVrinCrCkk",
        "outputId": "4556c92d-21d2-4c0d-a6d3-aa70cc9942af",
        "colab": {
          "base_uri": "https://localhost:8080/"
        }
      },
      "execution_count": null,
      "outputs": [
        {
          "output_type": "stream",
          "name": "stdout",
          "text": [
            "Epoch 1\n",
            "   f'(Yin1)  f'(Yin2)  f'(Zin1)  f'(Zin2)  Gradient y1  Gradient y2  ΔW(Z1Y1)  \\\n",
            "0  0.247342  0.239763  0.228784  0.221713    -0.136424    -0.144140 -0.004834   \n",
            "1  0.249998  0.249901  0.213910  0.149146    -0.124668    -0.122462 -0.008602   \n",
            "2  0.242493  0.249335  0.240261  0.247517    -0.142257    -0.131097 -0.005709   \n",
            "3  0.240659  0.248167  0.237759  0.246134     0.097071     0.113460  0.005928   \n",
            "4  0.247406  0.238784  0.249844  0.187370     0.111101     0.144680  0.005416   \n",
            "5  0.245894  0.202527  0.139764  0.228784     0.138704     0.057136  0.011540   \n",
            "\n",
            "   ΔW(Z1Y2)  ΔW(Z2Y1)  ΔW(Z2Y2)  ...  ΔW(X1Z1)  ΔW(X1Z2)  ΔW(X2Z1)  ΔW(X2Z2)  \\\n",
            "0 -0.005108 -0.009116 -0.009631  ... -0.000000 -0.000000 -0.000000 -0.000000   \n",
            "1 -0.008450 -0.002274 -0.002234  ...  0.000648 -0.000290  0.000000 -0.000000   \n",
            "2 -0.005261 -0.006404 -0.005902  ... -0.000000 -0.000000 -0.000000 -0.000000   \n",
            "3  0.006928  0.004250  0.004968  ...  0.000845  0.001235  0.000845  0.001235   \n",
            "4  0.007053  0.008335  0.010855  ...  0.000000 -0.000000  0.000000 -0.000000   \n",
            "5  0.004754  0.008955  0.003689  ...  0.000975 -0.000970  0.000975 -0.000970   \n",
            "\n",
            "   ΔW(X3Z1)  ΔW(X3Z2)  ΔW(X4Z1)  ΔW(X4Z2)  ΔW(X5Z1)  ΔW(X5Z2)  \n",
            "0 -0.002576 -0.001161 -0.000000 -0.000000 -0.000000  -0.00000  \n",
            "1  0.000648 -0.000290  0.000648 -0.000290  0.000648  -0.00029  \n",
            "2 -0.001917 -0.000756 -0.000000 -0.000000 -0.000000  -0.00000  \n",
            "3  0.000845  0.001235  0.000000  0.000000  0.000000   0.00000  \n",
            "4  0.000474 -0.000731  0.000474 -0.000731  0.000000  -0.00000  \n",
            "5  0.000975 -0.000970  0.000975 -0.000970  0.000975  -0.00097  \n",
            "\n",
            "[6 rows x 24 columns]\n",
            "------------------------------------------------------------\n",
            "Updated Weights after Epoch 1:\n",
            "   W_biasZ1  W_biasZ2    W_X1Z1    W_X1Z2    W_X2Z1    W_X2Z2    W_X3Z1  \\\n",
            "0 -0.202576  0.398839  0.100000 -0.300000  0.500000 -0.600000 -0.402576   \n",
            "1  0.100648 -0.300290 -0.199352  0.399710 -0.100000  0.600000  0.300648   \n",
            "2  0.198083 -0.400756  0.400000  0.100000 -0.300000  0.250000 -0.601917   \n",
            "3 -0.249155  0.351235  0.500845 -0.598765 -0.199155  0.301235  0.400845   \n",
            "4  0.300474 -0.100731 -0.500000  0.200000 -0.400000  0.700000  0.250474   \n",
            "5 -0.099025  0.199030 -0.299025  0.349030  0.400975 -0.250970  0.500975   \n",
            "\n",
            "     W_X3Z2    W_X4Z1    W_X4Z2    W_X5Z1   W_X5Z2  W_biasY1  W_biasY2  \\\n",
            "0  0.298839  0.700000 -0.900000 -0.100000  0.90000  0.236358 -0.164414   \n",
            "1 -0.500290  0.000648 -0.600290  0.600648 -0.50029 -0.212467  0.287754   \n",
            "2  0.199244 -0.500000  0.600000 -0.100000  0.40000  0.385774 -0.313110   \n",
            "3 -0.298765  0.700000  0.900000 -0.400000 -0.50000 -0.140293  0.261346   \n",
            "4  0.399269 -0.599526  0.799269  0.500000  0.80000  0.161110 -0.235532   \n",
            "5  0.099030  0.900975  0.099030  0.200975  0.09903 -0.286130  0.505714   \n",
            "\n",
            "     W_Z1Y1    W_Z1Y2    W_Z2Y1    W_Z2Y2  \n",
            "0  0.345166  0.444892 -0.259116  0.590369  \n",
            "1  0.141398 -0.408450  0.497726 -0.352234  \n",
            "2  0.094291  0.494739 -0.206404  0.444098  \n",
            "3  0.605928 -0.193072  0.404250  0.104968  \n",
            "4 -0.344584  0.407053  0.308335 -0.489145  \n",
            "5  0.411540  0.254754 -0.441045  0.353689  \n",
            "------------------------------------------------------------\n",
            "Epoch 2\n",
            "   f'(Yin1)  f'(Yin2)  f'(Zin1)  f'(Zin2)  Gradient y1  Gradient y2  ΔW(Z1Y1)  \\\n",
            "0  0.247867  0.240874  0.228440  0.221886    -0.135381    -0.143448 -0.004781   \n",
            "1  0.249964  0.249786  0.213646  0.149009    -0.123475    -0.121239 -0.008528   \n",
            "2  0.243288  0.249552  0.240078  0.247479    -0.141576    -0.130059 -0.005669   \n",
            "3  0.239893  0.247772  0.237581  0.246284     0.095830     0.112190  0.005859   \n",
            "4  0.246884  0.240083  0.249853  0.187575     0.109662     0.143950  0.005350   \n",
            "5  0.246791  0.201484  0.139221  0.229171     0.137375     0.056362  0.011441   \n",
            "\n",
            "   ΔW(Z1Y2)  ΔW(Z2Y1)  ΔW(Z2Y2)  ...  ΔW(X1Z1)  ΔW(X1Z2)  ΔW(X2Z1)  ΔW(X2Z2)  \\\n",
            "0 -0.005066 -0.009039 -0.009578  ... -0.000000 -0.000000 -0.000000 -0.000000   \n",
            "1 -0.008374 -0.002250 -0.002209  ...  0.000685 -0.000279  0.000000 -0.000000   \n",
            "2 -0.005207 -0.006368 -0.005850  ... -0.000000 -0.000000 -0.000000 -0.000000   \n",
            "3  0.006860  0.004207  0.004926  ...  0.000865  0.001244  0.000865  0.001244   \n",
            "4  0.007023  0.008223  0.010794  ...  0.000000 -0.000000  0.000000 -0.000000   \n",
            "5  0.004694  0.008851  0.003632  ...  0.000987 -0.000932  0.000987 -0.000932   \n",
            "\n",
            "   ΔW(X3Z1)  ΔW(X3Z2)  ΔW(X4Z1)  ΔW(X4Z2)  ΔW(X5Z1)  ΔW(X5Z2)  \n",
            "0 -0.002525 -0.001101 -0.000000 -0.000000 -0.000000 -0.000000  \n",
            "1  0.000685 -0.000279  0.000685 -0.000279  0.000685 -0.000279  \n",
            "2 -0.001865 -0.000706 -0.000000 -0.000000 -0.000000 -0.000000  \n",
            "3  0.000865  0.001244  0.000000  0.000000  0.000000  0.000000  \n",
            "4  0.000520 -0.000687  0.000520 -0.000687  0.000000 -0.000000  \n",
            "5  0.000987 -0.000932  0.000987 -0.000932  0.000987 -0.000932  \n",
            "\n",
            "[6 rows x 24 columns]\n",
            "------------------------------------------------------------\n",
            "Updated Weights after Epoch 2:\n",
            "   W_biasZ1  W_biasZ2    W_X1Z1    W_X1Z2    W_X2Z1    W_X2Z2    W_X3Z1  \\\n",
            "0 -0.205102  0.397738  0.100000 -0.300000  0.500000 -0.600000 -0.405102   \n",
            "1  0.101333 -0.300570 -0.198667  0.399430 -0.100000  0.600000  0.301333   \n",
            "2  0.196218 -0.401462  0.400000  0.100000 -0.300000  0.250000 -0.603782   \n",
            "3 -0.248290  0.352479  0.501710 -0.597521 -0.198290  0.302479  0.401710   \n",
            "4  0.300994 -0.101417 -0.500000  0.200000 -0.400000  0.700000  0.250994   \n",
            "5 -0.098038  0.198098 -0.298038  0.348098  0.401962 -0.251902  0.501962   \n",
            "\n",
            "     W_X3Z2    W_X4Z1    W_X4Z2    W_X5Z1    W_X5Z2  W_biasY1  W_biasY2  \\\n",
            "0  0.297738  0.700000 -0.900000 -0.100000  0.900000  0.222820 -0.178759   \n",
            "1 -0.500570  0.001333 -0.600570  0.601333 -0.500570 -0.224814  0.275630   \n",
            "2  0.198538 -0.500000  0.600000 -0.100000  0.400000  0.371617 -0.326116   \n",
            "3 -0.297521  0.700000  0.900000 -0.400000 -0.500000 -0.130710  0.272565   \n",
            "4  0.398583 -0.599006  0.798583  0.500000  0.800000  0.172076 -0.221137   \n",
            "5  0.098098  0.901962  0.098098  0.201962  0.098098 -0.272392  0.511350   \n",
            "\n",
            "     W_Z1Y1    W_Z1Y2    W_Z2Y1    W_Z2Y2  \n",
            "0  0.340385  0.439826 -0.268155  0.580791  \n",
            "1  0.132870 -0.416823  0.495476 -0.354443  \n",
            "2  0.088622  0.489531 -0.212772  0.438249  \n",
            "3  0.611787 -0.186212  0.408457  0.109893  \n",
            "4 -0.339234  0.414076  0.316558 -0.478351  \n",
            "5  0.422981  0.259448 -0.432193  0.357321  \n",
            "------------------------------------------------------------\n"
          ]
        }
      ]
    },
    {
      "cell_type": "markdown",
      "source": [
        "#Pengolahan Seluruh Dataset Menggunakan Library"
      ],
      "metadata": {
        "id": "e_1E117Y3p48"
      }
    },
    {
      "cell_type": "code",
      "source": [
        "import numpy as np\n",
        "import pandas as pd\n",
        "import matplotlib.pyplot as plt\n",
        "import seaborn as sns\n",
        "from sklearn.model_selection import train_test_split, GridSearchCV\n",
        "from sklearn.preprocessing import StandardScaler, MinMaxScaler, RobustScaler\n",
        "from sklearn.neural_network import MLPClassifier\n",
        "from sklearn.metrics import confusion_matrix, classification_report, accuracy_score, precision_score, recall_score, f1_score\n",
        "from sklearn.decomposition import PCA"
      ],
      "metadata": {
        "id": "QCDQ69vekULJ"
      },
      "execution_count": null,
      "outputs": []
    },
    {
      "cell_type": "code",
      "source": [
        "from google.colab import files\n",
        "import pandas as pd\n",
        "\n",
        "# Mengunggah file\n",
        "uploaded = files.upload()\n",
        "\n",
        "# Menampilkan file yang diunggah\n",
        "for filename in uploaded.keys():\n",
        "    print(f\"File yang diunggah: {filename} ({len(uploaded[filename])} bytes)\")\n",
        "\n",
        "# Memastikan nama file sesuai dengan file yang diunggah\n",
        "file_name = list(uploaded.keys())[0]  # Mengambil nama file pertama yang diunggah\n",
        "\n",
        "# Memuat file ke dalam DataFrame\n",
        "try:\n",
        "    data = pd.read_csv(file_name)\n",
        "    # Menampilkan 5 baris pertama dari data\n",
        "    print(\"\\n5 Baris pertama dari dataset:\")\n",
        "    print(data.head())\n",
        "except Exception as e:\n",
        "    print(f\"Error saat memuat file: {e}\")\n",
        "\n"
      ],
      "metadata": {
        "colab": {
          "base_uri": "https://localhost:8080/",
          "height": 628
        },
        "id": "B8832ZuMkZXq",
        "outputId": "3234c1a4-a560-4efc-9ee9-d259c47199fd"
      },
      "execution_count": null,
      "outputs": [
        {
          "output_type": "display_data",
          "data": {
            "text/plain": [
              "<IPython.core.display.HTML object>"
            ],
            "text/html": [
              "\n",
              "     <input type=\"file\" id=\"files-8cadca68-ca29-4a44-8b29-775a116cd6fa\" name=\"files[]\" multiple disabled\n",
              "        style=\"border:none\" />\n",
              "     <output id=\"result-8cadca68-ca29-4a44-8b29-775a116cd6fa\">\n",
              "      Upload widget is only available when the cell has been executed in the\n",
              "      current browser session. Please rerun this cell to enable.\n",
              "      </output>\n",
              "      <script>// Copyright 2017 Google LLC\n",
              "//\n",
              "// Licensed under the Apache License, Version 2.0 (the \"License\");\n",
              "// you may not use this file except in compliance with the License.\n",
              "// You may obtain a copy of the License at\n",
              "//\n",
              "//      http://www.apache.org/licenses/LICENSE-2.0\n",
              "//\n",
              "// Unless required by applicable law or agreed to in writing, software\n",
              "// distributed under the License is distributed on an \"AS IS\" BASIS,\n",
              "// WITHOUT WARRANTIES OR CONDITIONS OF ANY KIND, either express or implied.\n",
              "// See the License for the specific language governing permissions and\n",
              "// limitations under the License.\n",
              "\n",
              "/**\n",
              " * @fileoverview Helpers for google.colab Python module.\n",
              " */\n",
              "(function(scope) {\n",
              "function span(text, styleAttributes = {}) {\n",
              "  const element = document.createElement('span');\n",
              "  element.textContent = text;\n",
              "  for (const key of Object.keys(styleAttributes)) {\n",
              "    element.style[key] = styleAttributes[key];\n",
              "  }\n",
              "  return element;\n",
              "}\n",
              "\n",
              "// Max number of bytes which will be uploaded at a time.\n",
              "const MAX_PAYLOAD_SIZE = 100 * 1024;\n",
              "\n",
              "function _uploadFiles(inputId, outputId) {\n",
              "  const steps = uploadFilesStep(inputId, outputId);\n",
              "  const outputElement = document.getElementById(outputId);\n",
              "  // Cache steps on the outputElement to make it available for the next call\n",
              "  // to uploadFilesContinue from Python.\n",
              "  outputElement.steps = steps;\n",
              "\n",
              "  return _uploadFilesContinue(outputId);\n",
              "}\n",
              "\n",
              "// This is roughly an async generator (not supported in the browser yet),\n",
              "// where there are multiple asynchronous steps and the Python side is going\n",
              "// to poll for completion of each step.\n",
              "// This uses a Promise to block the python side on completion of each step,\n",
              "// then passes the result of the previous step as the input to the next step.\n",
              "function _uploadFilesContinue(outputId) {\n",
              "  const outputElement = document.getElementById(outputId);\n",
              "  const steps = outputElement.steps;\n",
              "\n",
              "  const next = steps.next(outputElement.lastPromiseValue);\n",
              "  return Promise.resolve(next.value.promise).then((value) => {\n",
              "    // Cache the last promise value to make it available to the next\n",
              "    // step of the generator.\n",
              "    outputElement.lastPromiseValue = value;\n",
              "    return next.value.response;\n",
              "  });\n",
              "}\n",
              "\n",
              "/**\n",
              " * Generator function which is called between each async step of the upload\n",
              " * process.\n",
              " * @param {string} inputId Element ID of the input file picker element.\n",
              " * @param {string} outputId Element ID of the output display.\n",
              " * @return {!Iterable<!Object>} Iterable of next steps.\n",
              " */\n",
              "function* uploadFilesStep(inputId, outputId) {\n",
              "  const inputElement = document.getElementById(inputId);\n",
              "  inputElement.disabled = false;\n",
              "\n",
              "  const outputElement = document.getElementById(outputId);\n",
              "  outputElement.innerHTML = '';\n",
              "\n",
              "  const pickedPromise = new Promise((resolve) => {\n",
              "    inputElement.addEventListener('change', (e) => {\n",
              "      resolve(e.target.files);\n",
              "    });\n",
              "  });\n",
              "\n",
              "  const cancel = document.createElement('button');\n",
              "  inputElement.parentElement.appendChild(cancel);\n",
              "  cancel.textContent = 'Cancel upload';\n",
              "  const cancelPromise = new Promise((resolve) => {\n",
              "    cancel.onclick = () => {\n",
              "      resolve(null);\n",
              "    };\n",
              "  });\n",
              "\n",
              "  // Wait for the user to pick the files.\n",
              "  const files = yield {\n",
              "    promise: Promise.race([pickedPromise, cancelPromise]),\n",
              "    response: {\n",
              "      action: 'starting',\n",
              "    }\n",
              "  };\n",
              "\n",
              "  cancel.remove();\n",
              "\n",
              "  // Disable the input element since further picks are not allowed.\n",
              "  inputElement.disabled = true;\n",
              "\n",
              "  if (!files) {\n",
              "    return {\n",
              "      response: {\n",
              "        action: 'complete',\n",
              "      }\n",
              "    };\n",
              "  }\n",
              "\n",
              "  for (const file of files) {\n",
              "    const li = document.createElement('li');\n",
              "    li.append(span(file.name, {fontWeight: 'bold'}));\n",
              "    li.append(span(\n",
              "        `(${file.type || 'n/a'}) - ${file.size} bytes, ` +\n",
              "        `last modified: ${\n",
              "            file.lastModifiedDate ? file.lastModifiedDate.toLocaleDateString() :\n",
              "                                    'n/a'} - `));\n",
              "    const percent = span('0% done');\n",
              "    li.appendChild(percent);\n",
              "\n",
              "    outputElement.appendChild(li);\n",
              "\n",
              "    const fileDataPromise = new Promise((resolve) => {\n",
              "      const reader = new FileReader();\n",
              "      reader.onload = (e) => {\n",
              "        resolve(e.target.result);\n",
              "      };\n",
              "      reader.readAsArrayBuffer(file);\n",
              "    });\n",
              "    // Wait for the data to be ready.\n",
              "    let fileData = yield {\n",
              "      promise: fileDataPromise,\n",
              "      response: {\n",
              "        action: 'continue',\n",
              "      }\n",
              "    };\n",
              "\n",
              "    // Use a chunked sending to avoid message size limits. See b/62115660.\n",
              "    let position = 0;\n",
              "    do {\n",
              "      const length = Math.min(fileData.byteLength - position, MAX_PAYLOAD_SIZE);\n",
              "      const chunk = new Uint8Array(fileData, position, length);\n",
              "      position += length;\n",
              "\n",
              "      const base64 = btoa(String.fromCharCode.apply(null, chunk));\n",
              "      yield {\n",
              "        response: {\n",
              "          action: 'append',\n",
              "          file: file.name,\n",
              "          data: base64,\n",
              "        },\n",
              "      };\n",
              "\n",
              "      let percentDone = fileData.byteLength === 0 ?\n",
              "          100 :\n",
              "          Math.round((position / fileData.byteLength) * 100);\n",
              "      percent.textContent = `${percentDone}% done`;\n",
              "\n",
              "    } while (position < fileData.byteLength);\n",
              "  }\n",
              "\n",
              "  // All done.\n",
              "  yield {\n",
              "    response: {\n",
              "      action: 'complete',\n",
              "    }\n",
              "  };\n",
              "}\n",
              "\n",
              "scope.google = scope.google || {};\n",
              "scope.google.colab = scope.google.colab || {};\n",
              "scope.google.colab._files = {\n",
              "  _uploadFiles,\n",
              "  _uploadFilesContinue,\n",
              "};\n",
              "})(self);\n",
              "</script> "
            ]
          },
          "metadata": {}
        },
        {
          "output_type": "stream",
          "name": "stdout",
          "text": [
            "Saving diabetes_binary_5050split_health_indicators_BRFSS2015.csv to diabetes_binary_5050split_health_indicators_BRFSS2015.csv\n",
            "File yang diunggah: diabetes_binary_5050split_health_indicators_BRFSS2015.csv (6347570 bytes)\n",
            "\n",
            "5 Baris pertama dari dataset:\n",
            "   Diabetes_binary  HighBP  HighChol  CholCheck   BMI  Smoker  Stroke  \\\n",
            "0              0.0     1.0       0.0        1.0  26.0     0.0     0.0   \n",
            "1              0.0     1.0       1.0        1.0  26.0     1.0     1.0   \n",
            "2              0.0     0.0       0.0        1.0  26.0     0.0     0.0   \n",
            "3              0.0     1.0       1.0        1.0  28.0     1.0     0.0   \n",
            "4              0.0     0.0       0.0        1.0  29.0     1.0     0.0   \n",
            "\n",
            "   HeartDiseaseorAttack  PhysActivity  Fruits  ...  AnyHealthcare  \\\n",
            "0                   0.0           1.0     0.0  ...            1.0   \n",
            "1                   0.0           0.0     1.0  ...            1.0   \n",
            "2                   0.0           1.0     1.0  ...            1.0   \n",
            "3                   0.0           1.0     1.0  ...            1.0   \n",
            "4                   0.0           1.0     1.0  ...            1.0   \n",
            "\n",
            "   NoDocbcCost  GenHlth  MentHlth  PhysHlth  DiffWalk  Sex   Age  Education  \\\n",
            "0          0.0      3.0       5.0      30.0       0.0  1.0   4.0        6.0   \n",
            "1          0.0      3.0       0.0       0.0       0.0  1.0  12.0        6.0   \n",
            "2          0.0      1.0       0.0      10.0       0.0  1.0  13.0        6.0   \n",
            "3          0.0      3.0       0.0       3.0       0.0  1.0  11.0        6.0   \n",
            "4          0.0      2.0       0.0       0.0       0.0  0.0   8.0        5.0   \n",
            "\n",
            "   Income  \n",
            "0     8.0  \n",
            "1     8.0  \n",
            "2     8.0  \n",
            "3     8.0  \n",
            "4     8.0  \n",
            "\n",
            "[5 rows x 22 columns]\n"
          ]
        }
      ]
    },
    {
      "cell_type": "markdown",
      "source": [
        "#Data Cleaning\n"
      ],
      "metadata": {
        "id": "ocLMW0s56EtM"
      }
    },
    {
      "cell_type": "code",
      "source": [
        "# Menangani Missing Values\n",
        "data = data.dropna()  # Hapus baris yang memiliki missing value\n",
        "\n",
        "# Encoding kolom kategorikal jika ada\n",
        "# Asumsi: Kolom 'Sex' adalah kategorikal (contoh)\n",
        "data = pd.get_dummies(data, drop_first=True)  # Encoding kolom kategorikal\n",
        "\n",
        "# Normalisasi data menggunakan StandardScaler\n",
        "from sklearn.preprocessing import StandardScaler\n",
        "\n",
        "scaler = StandardScaler()\n",
        "X = data.drop('Diabetes_binary', axis=1)  # Fitur\n",
        "y = data['Diabetes_binary']  # Target\n",
        "\n",
        "# Melakukan fit dan transformasi pada seluruh fitur\n",
        "X_scaled = scaler.fit_transform(X)\n",
        "print(X_scaled)\n"
      ],
      "metadata": {
        "id": "M-z9YroWlobW",
        "colab": {
          "base_uri": "https://localhost:8080/"
        },
        "outputId": "4747a4c1-9e0b-4111-98a8-83481e42cd29"
      },
      "execution_count": null,
      "outputs": [
        {
          "output_type": "stream",
          "name": "stdout",
          "text": [
            "[[ 0.88020109 -1.05279808  0.15927581 ... -1.60723742  1.04856175\n",
            "   1.05815996]\n",
            " [ 0.88020109  0.94984976  0.15927581 ...  1.19768093  1.04856175\n",
            "   1.05815996]\n",
            " [-1.13610402 -1.05279808  0.15927581 ...  1.54829572  1.04856175\n",
            "   1.05815996]\n",
            " ...\n",
            " [ 0.88020109  0.94984976  0.15927581 ...  1.54829572  1.04856175\n",
            "  -0.78076781]\n",
            " [ 0.88020109  0.94984976  0.15927581 ...  0.84706614 -2.83842972\n",
            "  -0.78076781]\n",
            " [ 0.88020109  0.94984976  0.15927581 ...  0.14583655  1.04856175\n",
            "  -1.70023169]]\n"
          ]
        }
      ]
    },
    {
      "cell_type": "markdown",
      "source": [
        "#Pemisahan Kategori Data"
      ],
      "metadata": {
        "id": "tYPaU3sX6KWv"
      }
    },
    {
      "cell_type": "code",
      "source": [
        "from sklearn.model_selection import train_test_split\n",
        "\n",
        "# Membagi data menjadi 80% data latih dan 20% data uji\n",
        "X_train, X_test, y_train, y_test = train_test_split(X_scaled, y, test_size=0.2, random_state=42)\n",
        "\n",
        "# Menampilkan ukuran data latih dan data uji\n",
        "print(f\"Data latih: {X_train.shape}, Data uji: {X_test.shape}\")\n"
      ],
      "metadata": {
        "id": "NtIX5OFOl-4O",
        "colab": {
          "base_uri": "https://localhost:8080/"
        },
        "outputId": "4b3102dd-0779-4d51-abe0-a5887779c637"
      },
      "execution_count": null,
      "outputs": [
        {
          "output_type": "stream",
          "name": "stdout",
          "text": [
            "Data latih: (56553, 21), Data uji: (14139, 21)\n"
          ]
        }
      ]
    },
    {
      "cell_type": "markdown",
      "source": [
        "#Backpropagation dengan MLPClassifier"
      ],
      "metadata": {
        "id": "KZNtSMHUB6wX"
      }
    },
    {
      "cell_type": "code",
      "source": [
        "from sklearn.neural_network import MLPClassifier\n",
        "\n",
        "# Membuat dan melatih model MLP\n",
        "mlp = MLPClassifier(hidden_layer_sizes=(50, 25), max_iter=1000, random_state=42)\n",
        "mlp.fit(X_train, y_train)\n",
        "\n",
        "# Prediksi pada data uji\n",
        "y_pred = mlp.predict(X_test)\n",
        "\n",
        "# Menghitung metrik\n",
        "accuracy = accuracy_score(y_test, y_pred)\n",
        "precision = precision_score(y_test, y_pred)\n",
        "recall = recall_score(y_test, y_pred)\n",
        "f1 = f1_score(y_test, y_pred)\n",
        "\n",
        "# Menampilkan metrik\n",
        "print(f\"Accuracy: {accuracy:.4f}\")\n",
        "print(f\"Precision: {precision:.4f}\")\n",
        "print(f\"Recall: {recall:.4f}\")\n",
        "print(f\"F1 Score: {f1:.4f}\")\n",
        "\n",
        "# Menampilkan classification report untuk melihat semua metrik sekaligus\n",
        "class_report = classification_report(y_test, y_pred)\n",
        "print(\"Classification Report:\")\n",
        "print(class_report)\n",
        "\n",
        "# Menghitung confusion matrix\n",
        "conf_matrix = confusion_matrix(y_test, y_pred)\n",
        "\n",
        "# Visualisasi confusion matrix\n",
        "plt.figure(figsize=(6, 4))\n",
        "sns.heatmap(conf_matrix, annot=True, fmt='d', cmap='Blues', xticklabels=np.unique(y), yticklabels=np.unique(y))\n",
        "plt.title('Confusion Matrix')\n",
        "plt.xlabel('Predicted')\n",
        "plt.ylabel('Actual')\n",
        "plt.show()\n"
      ],
      "metadata": {
        "id": "E26WKwZ2mCPL",
        "colab": {
          "base_uri": "https://localhost:8080/",
          "height": 653
        },
        "outputId": "ad75b151-31ff-4f86-a743-36a04010f9ad"
      },
      "execution_count": null,
      "outputs": [
        {
          "output_type": "stream",
          "name": "stdout",
          "text": [
            "Accuracy: 0.7382\n",
            "Precision: 0.7211\n",
            "Recall: 0.7743\n",
            "F1 Score: 0.7468\n",
            "Classification Report:\n",
            "              precision    recall  f1-score   support\n",
            "\n",
            "         0.0       0.76      0.70      0.73      7090\n",
            "         1.0       0.72      0.77      0.75      7049\n",
            "\n",
            "    accuracy                           0.74     14139\n",
            "   macro avg       0.74      0.74      0.74     14139\n",
            "weighted avg       0.74      0.74      0.74     14139\n",
            "\n"
          ]
        },
        {
          "output_type": "display_data",
          "data": {
            "text/plain": [
              "<Figure size 600x400 with 2 Axes>"
            ],
            "image/png": "[encoded data removed]"
          },
          "metadata": {}
        }
      ]
    },
    {
      "cell_type": "markdown",
      "source": [
        "#Pengolahan menggunakan confusion_matrix, classification_report, accuracy_score"
      ],
      "metadata": {
        "id": "nY_7TnHh6VEF"
      }
    },
    {
      "cell_type": "code",
      "source": [
        "from sklearn.metrics import confusion_matrix, classification_report, accuracy_score\n",
        "\n",
        "# Menghitung accuracy\n",
        "accuracy = accuracy_score(y_test, y_pred)\n",
        "\n",
        "# Menghitung confusion matrix\n",
        "conf_matrix = confusion_matrix(y_test, y_pred)\n",
        "\n",
        "# Menampilkan classification report\n",
        "class_report = classification_report(y_test, y_pred)\n",
        "\n",
        "print(f\"Accuracy: {accuracy:.4f}\")\n",
        "print(\"Classification Report:\")\n",
        "print(class_report)\n",
        "\n",
        "# Visualisasi confusion matrix\n",
        "import matplotlib.pyplot as plt\n",
        "import seaborn as sns\n",
        "\n",
        "plt.figure(figsize=(6, 4))\n",
        "sns.heatmap(conf_matrix, annot=True, fmt='d', cmap='Blues', xticklabels=np.unique(y), yticklabels=np.unique(y))\n",
        "plt.title('Confusion Matrix')\n",
        "plt.xlabel('Predicted')\n",
        "plt.ylabel('Actual')\n",
        "plt.show()\n"
      ],
      "metadata": {
        "id": "JS4C99hwmEUF",
        "colab": {
          "base_uri": "https://localhost:8080/",
          "height": 601
        },
        "outputId": "96976094-70c2-4031-bf14-b45712b6e8c7"
      },
      "execution_count": null,
      "outputs": [
        {
          "output_type": "stream",
          "name": "stdout",
          "text": [
            "Accuracy: 0.7382\n",
            "Classification Report:\n",
            "              precision    recall  f1-score   support\n",
            "\n",
            "         0.0       0.76      0.70      0.73      7090\n",
            "         1.0       0.72      0.77      0.75      7049\n",
            "\n",
            "    accuracy                           0.74     14139\n",
            "   macro avg       0.74      0.74      0.74     14139\n",
            "weighted avg       0.74      0.74      0.74     14139\n",
            "\n"
          ]
        },
        {
          "output_type": "display_data",
          "data": {
            "text/plain": [
              "<Figure size 600x400 with 2 Axes>"
            ],
            "image/png": "[encoded data removed]"
          },
          "metadata": {}
        }
      ]
    },
    {
      "cell_type": "markdown",
      "source": [
        "#Pengolahan menggunakan RandomizedSearchCV"
      ],
      "metadata": {
        "id": "-MjnvCm46iDj"
      }
    },
    {
      "cell_type": "code",
      "source": [
        "from sklearn.model_selection import RandomizedSearchCV\n",
        "from scipy.stats import uniform\n",
        "\n",
        "# Menyiapkan distribusi parameter untuk RandomizedSearchCV\n",
        "param_dist = {\n",
        "    'hidden_layer_sizes': [(10,), (50,), (100,)],\n",
        "    'activation': ['relu', 'tanh', 'logistic'],\n",
        "    'solver': ['adam', 'sgd'],\n",
        "    'alpha': uniform(0.0001, 0.1),  # Uniform distribution\n",
        "    'learning_rate': ['constant', 'adaptive']\n",
        "}\n",
        "\n",
        "# Melakukan RandomizedSearchCV\n",
        "random_search = RandomizedSearchCV(\n",
        "    MLPClassifier(max_iter=1000, random_state=42),\n",
        "    param_distributions=param_dist,\n",
        "    n_iter=10,  # Jumlah kombinasi yang dicoba (lebih sedikit untuk eksperimen)\n",
        "    cv=3,  # Jumlah fold untuk cross-validation\n",
        "    n_jobs=-1,  # Gunakan semua core CPU\n",
        "    verbose=2,\n",
        "    random_state=42\n",
        ")\n",
        "\n",
        "# Melatih model dengan RandomizedSearchCV\n",
        "random_search.fit(X_train, y_train)\n",
        "\n",
        "# Menampilkan parameter terbaik\n",
        "print(f\"\\nBest Parameters: {random_search.best_params_}\")\n",
        "\n",
        "# Melatih model terbaik dan mengevaluasi\n",
        "best_mlp_random = random_search.best_estimator_\n",
        "y_pred_random = best_mlp_random.predict(X_test)\n",
        "\n",
        "# Evaluasi model terbaik\n",
        "accuracy_random = accuracy_score(y_test, y_pred_random)\n",
        "print(f\"\\nAccuracy setelah RandomizedSearchCV: {accuracy_random:.4f}\")\n",
        "print(\"Classification Report:\")\n",
        "print(classification_report(y_test, y_pred_random))\n",
        "\n",
        "# Confusion Matrix setelah tuning\n",
        "conf_matrix_random = confusion_matrix(y_test, y_pred_random)\n",
        "plt.figure(figsize=(6, 4))\n",
        "sns.heatmap(conf_matrix_random, annot=True, fmt='d', cmap='Blues', xticklabels=np.unique(y), yticklabels=np.unique(y))\n",
        "plt.title('Confusion Matrix setelah RandomizedSearchCV')\n",
        "plt.xlabel('Predicted')\n",
        "plt.ylabel('Actual')\n",
        "plt.show()\n"
      ],
      "metadata": {
        "colab": {
          "base_uri": "https://localhost:8080/",
          "height": 670
        },
        "id": "K-_52K5b6Raz",
        "outputId": "6146cf96-8cbf-41da-8560-a4d222fb01fd"
      },
      "execution_count": null,
      "outputs": [
        {
          "output_type": "stream",
          "name": "stdout",
          "text": [
            "Fitting 3 folds for each of 10 candidates, totalling 30 fits\n",
            "\n",
            "Best Parameters: {'activation': 'relu', 'alpha': 0.059785015794648705, 'hidden_layer_sizes': (50,), 'learning_rate': 'constant', 'solver': 'adam'}\n",
            "\n",
            "Accuracy setelah RandomizedSearchCV: 0.7537\n",
            "Classification Report:\n",
            "              precision    recall  f1-score   support\n",
            "\n",
            "         0.0       0.78      0.71      0.74      7090\n",
            "         1.0       0.73      0.79      0.76      7049\n",
            "\n",
            "    accuracy                           0.75     14139\n",
            "   macro avg       0.76      0.75      0.75     14139\n",
            "weighted avg       0.76      0.75      0.75     14139\n",
            "\n"
          ]
        },
        {
          "output_type": "display_data",
          "data": {
            "text/plain": [
              "<Figure size 600x400 with 2 Axes>"
            ],
            "image/png": "[encoded data removed]"
          },
          "metadata": {}
        }
      ]
    },
    {
      "cell_type": "markdown",
      "source": [
        "#Pengolahan menggunakan PCA\n"
      ],
      "metadata": {
        "id": "1TC2Yug26mX3"
      }
    },
    {
      "cell_type": "code",
      "source": [
        "from sklearn.decomposition import PCA\n",
        "\n",
        "# Mengurangi dimensi menjadi 2 untuk visualisasi dan analisis\n",
        "pca = PCA(n_components=2)\n",
        "X_train_pca = pca.fit_transform(X_train)\n",
        "X_test_pca = pca.transform(X_test)\n",
        "\n",
        "# Melatih model menggunakan data yang sudah dikurangi dimensinya\n",
        "mlp_pca = MLPClassifier(hidden_layer_sizes=(50,), max_iter=1000, random_state=42)\n",
        "mlp_pca.fit(X_train_pca, y_train)\n",
        "\n",
        "# Prediksi pada data uji\n",
        "y_pred_pca = mlp_pca.predict(X_test_pca)\n",
        "\n",
        "# Evaluasi model setelah PCA\n",
        "accuracy_pca = accuracy_score(y_test, y_pred_pca)\n",
        "print(f\"\\nAccuracy setelah PCA: {accuracy_pca:.4f}\")\n",
        "print(\"Classification Report:\")\n",
        "print(classification_report(y_test, y_pred_pca))\n",
        "\n",
        "# Confusion Matrix setelah PCA\n",
        "conf_matrix_pca = confusion_matrix(y_test, y_pred_pca)\n",
        "plt.figure(figsize=(6, 4))\n",
        "sns.heatmap(conf_matrix_pca, annot=True, fmt='d', cmap='Blues', xticklabels=np.unique(y), yticklabels=np.unique(y))\n",
        "plt.title('Confusion Matrix setelah PCA')\n",
        "plt.xlabel('Predicted')\n",
        "plt.ylabel('Actual')\n",
        "plt.show()\n"
      ],
      "metadata": {
        "colab": {
          "base_uri": "https://localhost:8080/",
          "height": 618
        },
        "id": "r_haiGSF-0YR",
        "outputId": "b8610b0d-157c-4689-dbe2-75cd4a00d583"
      },
      "execution_count": null,
      "outputs": [
        {
          "output_type": "stream",
          "name": "stdout",
          "text": [
            "\n",
            "Accuracy setelah PCA: 0.7320\n",
            "Classification Report:\n",
            "              precision    recall  f1-score   support\n",
            "\n",
            "         0.0       0.77      0.66      0.71      7090\n",
            "         1.0       0.70      0.81      0.75      7049\n",
            "\n",
            "    accuracy                           0.73     14139\n",
            "   macro avg       0.74      0.73      0.73     14139\n",
            "weighted avg       0.74      0.73      0.73     14139\n",
            "\n"
          ]
        },
        {
          "output_type": "display_data",
          "data": {
            "text/plain": [
              "<Figure size 600x400 with 2 Axes>"
            ],
            "image/png": "[encoded data removed]"
          },
          "metadata": {}
        }
      ]
    }
  ]
}